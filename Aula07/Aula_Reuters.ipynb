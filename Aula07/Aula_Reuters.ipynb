{
  "nbformat": 4,
  "nbformat_minor": 0,
  "metadata": {
    "colab": {
      "provenance": [],
      "authorship_tag": "ABX9TyP7g1ygmMzdO0uNvHZI3Kgk",
      "include_colab_link": true
    },
    "kernelspec": {
      "name": "python3",
      "display_name": "Python 3"
    },
    "language_info": {
      "name": "python"
    },
    "accelerator": "GPU",
    "gpuClass": "standard"
  },
  "cells": [
    {
      "cell_type": "markdown",
      "metadata": {
        "id": "view-in-github",
        "colab_type": "text"
      },
      "source": [
        "<a href=\"https://colab.research.google.com/github/AndyVitoria/mpca_redes_neurais/blob/main/Aula07/Aula_Reuters.ipynb\" target=\"_parent\"><img src=\"https://colab.research.google.com/assets/colab-badge.svg\" alt=\"Open In Colab\"/></a>"
      ]
    },
    {
      "cell_type": "code",
      "execution_count": 120,
      "metadata": {
        "id": "Z2xdPeMzS66M"
      },
      "outputs": [],
      "source": [
        "from tensorflow.keras.datasets import reuters\n",
        "import tensorflow as tf\n",
        "from tensorflow import keras\n",
        "import numpy as np"
      ]
    },
    {
      "cell_type": "code",
      "source": [
        "num_words = 10000\n",
        "\n",
        "(x_train, y_train), (x_test, y_test) = reuters.load_data(seed=42, test_split=0.2, num_words=num_words)\n",
        "word_index = reuters.get_word_index(path=\"reuters_word_index.json\")"
      ],
      "metadata": {
        "id": "G8TIaAyRTBN3"
      },
      "execution_count": 121,
      "outputs": []
    },
    {
      "cell_type": "code",
      "source": [
        "y_train"
      ],
      "metadata": {
        "colab": {
          "base_uri": "https://localhost:8080/"
        },
        "id": "CajSmAigf_mu",
        "outputId": "3c70beb4-05a8-49cc-c330-078d4087c61a"
      },
      "execution_count": 122,
      "outputs": [
        {
          "output_type": "execute_result",
          "data": {
            "text/plain": [
              "array([ 3,  2, 19, ..., 21, 40, 20])"
            ]
          },
          "metadata": {},
          "execution_count": 122
        }
      ]
    },
    {
      "cell_type": "code",
      "source": [
        "word_map = {value: key for key, value in word_index.items()}"
      ],
      "metadata": {
        "id": "Y7mA7o2aY9o1"
      },
      "execution_count": 123,
      "outputs": []
    },
    {
      "cell_type": "code",
      "source": [
        "def print_text(text:list):\n",
        "  print(' '.join([word_map.get(x, \"?\") for x in text]))\n",
        "print_text(x_train[0])"
      ],
      "metadata": {
        "colab": {
          "base_uri": "https://localhost:8080/"
        },
        "id": "YGQoxmxvUDp9",
        "outputId": "0d23d373-5ba0-4691-9df4-0d3f918e362f"
      },
      "execution_count": 124,
      "outputs": [
        {
          "output_type": "stream",
          "name": "stdout",
          "text": [
            "the an brazil vs reuter 68 vs 2 lt index countries 18 000 reuter all number 000 lt oper site consumption 000 reuter considerably reserves 000 an 784 vs reuter holiday vs some 100 hit our forward up of share countries 624 writedown index tonnes income a but reuter countries 624 627 a exchange half be 9 dlrs on bond 07 said in all 100 hit our japanese of two as before on tonnes said oper half be in hit our japanese pct dlrs\n"
          ]
        }
      ]
    },
    {
      "cell_type": "code",
      "source": [
        "num_classes = y_train.max() +1"
      ],
      "metadata": {
        "id": "9zHhNXz4gS6r"
      },
      "execution_count": 125,
      "outputs": []
    },
    {
      "cell_type": "code",
      "source": [
        "from keras.preprocessing.text import Tokenizer\n",
        "\n",
        "max_words = 10000\n",
        "\n",
        "tokenizer = Tokenizer(num_words=max_words)\n",
        "x_train = tokenizer.sequences_to_matrix(x_train, mode='binary')\n",
        "x_test = tokenizer.sequences_to_matrix(x_test, mode='binary')\n",
        "\n",
        "y_train = keras.utils.to_categorical(y_train, num_classes)\n",
        "y_test = keras.utils.to_categorical(y_test, num_classes)"
      ],
      "metadata": {
        "id": "yJcVYuPHfzhr"
      },
      "execution_count": 126,
      "outputs": []
    },
    {
      "cell_type": "code",
      "source": [
        "class MyNetwork(keras.Model):\n",
        "  def __init__(self, n_hidden: int, max_words: int, num_classes: int):\n",
        "    super().__init__()\n",
        "    self.input_layer = keras.layers.Dense(512, activation='relu', input_shape=(max_words,))\n",
        "    self.n_hidden = n_hidden\n",
        "    self.num_classes = num_classes\n",
        "    self.hidden_layers = list()\n",
        "    for i in range(n_hidden):\n",
        "      self.hidden_layers.append(\n",
        "           keras.layers.Dense(512, activation='relu')\n",
        "      )\n",
        "\n",
        "    self.output_layer = keras.layers.Dense(num_classes, activation='softmax')\n",
        "\n",
        "\n",
        "  def call(self, inputs):\n",
        "    x = self.input_layer(inputs)\n",
        "    for i in range(self.n_hidden):\n",
        "      x = self.hidden_layers[i](x)\n",
        "    return self.output_layer(x)"
      ],
      "metadata": {
        "id": "3TShTQfMTpbE"
      },
      "execution_count": 127,
      "outputs": []
    },
    {
      "cell_type": "code",
      "source": [
        "model = MyNetwork(\n",
        "    n_hidden=5,\n",
        "    max_words=num_words,\n",
        "    num_classes=num_classes,\n",
        ")\n",
        "model.compile(loss='categorical_crossentropy', optimizer='adam', metrics=['accuracy'])\n",
        "model.evaluate(x_train, y_train)\n",
        "model.fit(x_train, y_train, epochs=50, validation_split=0.2)"
      ],
      "metadata": {
        "colab": {
          "base_uri": "https://localhost:8080/"
        },
        "id": "qwJv2uqQhH3X",
        "outputId": "df37e991-c130-4f5e-fe3a-9e7446931268"
      },
      "execution_count": 142,
      "outputs": [
        {
          "output_type": "stream",
          "name": "stdout",
          "text": [
            "281/281 [==============================] - 1s 3ms/step - loss: 3.8317 - accuracy: 0.0047\n",
            "Epoch 1/50\n",
            "225/225 [==============================] - 4s 7ms/step - loss: 1.6067 - accuracy: 0.6045 - val_loss: 1.2759 - val_accuracy: 0.6995\n",
            "Epoch 2/50\n",
            "225/225 [==============================] - 2s 8ms/step - loss: 0.9868 - accuracy: 0.7474 - val_loss: 1.1333 - val_accuracy: 0.7468\n",
            "Epoch 3/50\n",
            "225/225 [==============================] - 1s 6ms/step - loss: 0.6915 - accuracy: 0.8149 - val_loss: 1.2491 - val_accuracy: 0.7429\n",
            "Epoch 4/50\n",
            "225/225 [==============================] - 1s 6ms/step - loss: 0.5548 - accuracy: 0.8405 - val_loss: 1.2529 - val_accuracy: 0.7568\n",
            "Epoch 5/50\n",
            "225/225 [==============================] - 1s 6ms/step - loss: 0.4396 - accuracy: 0.8696 - val_loss: 1.4682 - val_accuracy: 0.7696\n",
            "Epoch 6/50\n",
            "225/225 [==============================] - 2s 8ms/step - loss: 0.3574 - accuracy: 0.8941 - val_loss: 1.4293 - val_accuracy: 0.7791\n",
            "Epoch 7/50\n",
            "225/225 [==============================] - 1s 6ms/step - loss: 0.2862 - accuracy: 0.9113 - val_loss: 1.7083 - val_accuracy: 0.7585\n",
            "Epoch 8/50\n",
            "225/225 [==============================] - 1s 6ms/step - loss: 0.2761 - accuracy: 0.9175 - val_loss: 1.6421 - val_accuracy: 0.7774\n",
            "Epoch 9/50\n",
            "225/225 [==============================] - 1s 6ms/step - loss: 0.2368 - accuracy: 0.9317 - val_loss: 1.7522 - val_accuracy: 0.7707\n",
            "Epoch 10/50\n",
            "225/225 [==============================] - 2s 7ms/step - loss: 0.1963 - accuracy: 0.9438 - val_loss: 1.8996 - val_accuracy: 0.7674\n",
            "Epoch 11/50\n",
            "225/225 [==============================] - 2s 7ms/step - loss: 0.1687 - accuracy: 0.9489 - val_loss: 1.8498 - val_accuracy: 0.7802\n",
            "Epoch 12/50\n",
            "225/225 [==============================] - 2s 9ms/step - loss: 0.1659 - accuracy: 0.9474 - val_loss: 2.1521 - val_accuracy: 0.7780\n",
            "Epoch 13/50\n",
            "225/225 [==============================] - 2s 9ms/step - loss: 0.1291 - accuracy: 0.9552 - val_loss: 1.9339 - val_accuracy: 0.7546\n",
            "Epoch 14/50\n",
            "225/225 [==============================] - 1s 6ms/step - loss: 0.1482 - accuracy: 0.9514 - val_loss: 2.7145 - val_accuracy: 0.7774\n",
            "Epoch 15/50\n",
            "225/225 [==============================] - 1s 6ms/step - loss: 0.1173 - accuracy: 0.9577 - val_loss: 2.4372 - val_accuracy: 0.7807\n",
            "Epoch 16/50\n",
            "225/225 [==============================] - 1s 6ms/step - loss: 0.1054 - accuracy: 0.9627 - val_loss: 2.3348 - val_accuracy: 0.7896\n",
            "Epoch 17/50\n",
            "225/225 [==============================] - 1s 6ms/step - loss: 0.1308 - accuracy: 0.9564 - val_loss: 2.9224 - val_accuracy: 0.7668\n",
            "Epoch 18/50\n",
            "225/225 [==============================] - 2s 7ms/step - loss: 0.1564 - accuracy: 0.9543 - val_loss: 2.8318 - val_accuracy: 0.7696\n",
            "Epoch 19/50\n",
            "225/225 [==============================] - 2s 7ms/step - loss: 0.1494 - accuracy: 0.9550 - val_loss: 2.6425 - val_accuracy: 0.7713\n",
            "Epoch 20/50\n",
            "225/225 [==============================] - 1s 6ms/step - loss: 0.1201 - accuracy: 0.9585 - val_loss: 2.7958 - val_accuracy: 0.7791\n",
            "Epoch 21/50\n",
            "225/225 [==============================] - 1s 6ms/step - loss: 0.1128 - accuracy: 0.9608 - val_loss: 3.0988 - val_accuracy: 0.7763\n",
            "Epoch 22/50\n",
            "225/225 [==============================] - 1s 6ms/step - loss: 0.0925 - accuracy: 0.9613 - val_loss: 2.6685 - val_accuracy: 0.7885\n",
            "Epoch 23/50\n",
            "225/225 [==============================] - 1s 6ms/step - loss: 0.0829 - accuracy: 0.9628 - val_loss: 2.9439 - val_accuracy: 0.7852\n",
            "Epoch 24/50\n",
            "225/225 [==============================] - 1s 6ms/step - loss: 0.1004 - accuracy: 0.9606 - val_loss: 2.9981 - val_accuracy: 0.7846\n",
            "Epoch 25/50\n",
            "225/225 [==============================] - 1s 6ms/step - loss: 0.1114 - accuracy: 0.9587 - val_loss: 2.6369 - val_accuracy: 0.7657\n",
            "Epoch 26/50\n",
            "225/225 [==============================] - 1s 6ms/step - loss: 0.1197 - accuracy: 0.9588 - val_loss: 2.9159 - val_accuracy: 0.7691\n",
            "Epoch 27/50\n",
            "225/225 [==============================] - 2s 7ms/step - loss: 0.1165 - accuracy: 0.9603 - val_loss: 2.7007 - val_accuracy: 0.7769\n",
            "Epoch 28/50\n",
            "225/225 [==============================] - 2s 7ms/step - loss: 0.0870 - accuracy: 0.9645 - val_loss: 2.4409 - val_accuracy: 0.7830\n",
            "Epoch 29/50\n",
            "225/225 [==============================] - 1s 6ms/step - loss: 0.0666 - accuracy: 0.9666 - val_loss: 3.0497 - val_accuracy: 0.7880\n",
            "Epoch 30/50\n",
            "225/225 [==============================] - 1s 6ms/step - loss: 0.1000 - accuracy: 0.9630 - val_loss: 3.1081 - val_accuracy: 0.7735\n",
            "Epoch 31/50\n",
            "225/225 [==============================] - 1s 6ms/step - loss: 0.0942 - accuracy: 0.9655 - val_loss: 2.7928 - val_accuracy: 0.7874\n",
            "Epoch 32/50\n",
            "225/225 [==============================] - 1s 6ms/step - loss: 0.0651 - accuracy: 0.9684 - val_loss: 3.0977 - val_accuracy: 0.7891\n",
            "Epoch 33/50\n",
            "225/225 [==============================] - 1s 6ms/step - loss: 0.0592 - accuracy: 0.9676 - val_loss: 3.3161 - val_accuracy: 0.7869\n",
            "Epoch 34/50\n",
            "225/225 [==============================] - 1s 6ms/step - loss: 0.0593 - accuracy: 0.9651 - val_loss: 3.7271 - val_accuracy: 0.7896\n",
            "Epoch 35/50\n",
            "225/225 [==============================] - 1s 6ms/step - loss: 0.0545 - accuracy: 0.9662 - val_loss: 3.8181 - val_accuracy: 0.7913\n",
            "Epoch 36/50\n",
            "225/225 [==============================] - 2s 8ms/step - loss: 0.0538 - accuracy: 0.9670 - val_loss: 3.9096 - val_accuracy: 0.7874\n",
            "Epoch 37/50\n",
            "225/225 [==============================] - 1s 6ms/step - loss: 0.0523 - accuracy: 0.9691 - val_loss: 4.3341 - val_accuracy: 0.7902\n",
            "Epoch 38/50\n",
            "225/225 [==============================] - 1s 6ms/step - loss: 0.0534 - accuracy: 0.9687 - val_loss: 4.2077 - val_accuracy: 0.7896\n",
            "Epoch 39/50\n",
            "225/225 [==============================] - 1s 6ms/step - loss: 0.0540 - accuracy: 0.9663 - val_loss: 4.3961 - val_accuracy: 0.7780\n",
            "Epoch 40/50\n",
            "225/225 [==============================] - 1s 6ms/step - loss: 0.0601 - accuracy: 0.9634 - val_loss: 5.5472 - val_accuracy: 0.7852\n",
            "Epoch 41/50\n",
            "225/225 [==============================] - 1s 6ms/step - loss: 0.0832 - accuracy: 0.9670 - val_loss: 3.9569 - val_accuracy: 0.7746\n",
            "Epoch 42/50\n",
            "225/225 [==============================] - 1s 7ms/step - loss: 0.1315 - accuracy: 0.9594 - val_loss: 4.7227 - val_accuracy: 0.7674\n",
            "Epoch 43/50\n",
            "225/225 [==============================] - 1s 6ms/step - loss: 0.1768 - accuracy: 0.9546 - val_loss: 5.3855 - val_accuracy: 0.7757\n",
            "Epoch 44/50\n",
            "225/225 [==============================] - 2s 8ms/step - loss: 0.1848 - accuracy: 0.9542 - val_loss: 3.2697 - val_accuracy: 0.7579\n",
            "Epoch 45/50\n",
            "225/225 [==============================] - 2s 7ms/step - loss: 0.1287 - accuracy: 0.9577 - val_loss: 3.3995 - val_accuracy: 0.7830\n",
            "Epoch 46/50\n",
            "225/225 [==============================] - 1s 7ms/step - loss: 0.0818 - accuracy: 0.9633 - val_loss: 4.9801 - val_accuracy: 0.7841\n",
            "Epoch 47/50\n",
            "225/225 [==============================] - 1s 7ms/step - loss: 0.0659 - accuracy: 0.9638 - val_loss: 4.8671 - val_accuracy: 0.7830\n",
            "Epoch 48/50\n",
            "225/225 [==============================] - 1s 6ms/step - loss: 0.0624 - accuracy: 0.9638 - val_loss: 4.6620 - val_accuracy: 0.7752\n",
            "Epoch 49/50\n",
            "225/225 [==============================] - 1s 6ms/step - loss: 0.0581 - accuracy: 0.9659 - val_loss: 5.2589 - val_accuracy: 0.7830\n",
            "Epoch 50/50\n",
            "225/225 [==============================] - 1s 6ms/step - loss: 0.0550 - accuracy: 0.9684 - val_loss: 5.3112 - val_accuracy: 0.7869\n"
          ]
        },
        {
          "output_type": "execute_result",
          "data": {
            "text/plain": [
              "<keras.callbacks.History at 0x7f54a28762b0>"
            ]
          },
          "metadata": {},
          "execution_count": 142
        }
      ]
    },
    {
      "cell_type": "code",
      "source": [
        "model.evaluate(x_test, y_test)"
      ],
      "metadata": {
        "colab": {
          "base_uri": "https://localhost:8080/"
        },
        "id": "S2EljChigCj5",
        "outputId": "5fbeb3fb-de58-43de-955c-7a6f766a755c"
      },
      "execution_count": 143,
      "outputs": [
        {
          "output_type": "stream",
          "name": "stdout",
          "text": [
            "71/71 [==============================] - 0s 3ms/step - loss: 5.6185 - accuracy: 0.7734\n"
          ]
        },
        {
          "output_type": "execute_result",
          "data": {
            "text/plain": [
              "[5.618536472320557, 0.7733749151229858]"
            ]
          },
          "metadata": {},
          "execution_count": 143
        }
      ]
    },
    {
      "cell_type": "code",
      "source": [
        "class MyNetwork2(keras.Model):\n",
        "  def __init__(self, n_hidden: int, max_words: int, num_classes: int):\n",
        "    super().__init__()\n",
        "    self.input_layer = keras.layers.Dense(512, activation='relu', input_shape=(max_words,))\n",
        "    self.input_dropout = keras.layers.Dropout(0.5)\n",
        "    self.n_hidden = n_hidden\n",
        "    self.num_classes = num_classes\n",
        "    self.hidden_layers = list()\n",
        "    self.hidden_dropout = list()\n",
        "    for i in range(n_hidden):\n",
        "      self.hidden_layers.append(\n",
        "           keras.layers.Dense(512, activation='relu')\n",
        "      )\n",
        "      self.hidden_dropout.append(\n",
        "           keras.layers.Dropout(0.5)\n",
        "      )\n",
        "\n",
        "    self.output_layer = keras.layers.Dense(num_classes, activation='softmax')\n",
        "\n",
        "\n",
        "  def call(self, inputs):\n",
        "    x = self.input_layer(inputs)\n",
        "    x = self.input_dropout(x)\n",
        "    for i in range(self.n_hidden):\n",
        "      x = self.hidden_layers[i](x)\n",
        "      x = self.hidden_dropout[i](x)\n",
        "    return self.output_layer(x)"
      ],
      "metadata": {
        "id": "es3wmRnGhsi3"
      },
      "execution_count": 130,
      "outputs": []
    },
    {
      "cell_type": "code",
      "source": [
        "model_2 = MyNetwork2(\n",
        "    n_hidden=2,\n",
        "    max_words=num_words,\n",
        "    num_classes=num_classes,\n",
        ")\n",
        "model_2.compile(loss='categorical_crossentropy', optimizer='adam', metrics=['accuracy'])\n",
        "model_2.fit(x_train, y_train, epochs=50, batch_size=512, validation_split=.2)"
      ],
      "metadata": {
        "colab": {
          "base_uri": "https://localhost:8080/"
        },
        "id": "AoL_U6xXlNvq",
        "outputId": "aec92e88-5931-4ad2-8b25-c19668aba12e"
      },
      "execution_count": 140,
      "outputs": [
        {
          "output_type": "stream",
          "name": "stdout",
          "text": [
            "Epoch 1/50\n",
            "15/15 [==============================] - 2s 45ms/step - loss: 2.5582 - accuracy: 0.4145 - val_loss: 1.8114 - val_accuracy: 0.5348\n",
            "Epoch 2/50\n",
            "15/15 [==============================] - 0s 24ms/step - loss: 1.6653 - accuracy: 0.5896 - val_loss: 1.5175 - val_accuracy: 0.6822\n",
            "Epoch 3/50\n",
            "15/15 [==============================] - 0s 23ms/step - loss: 1.3613 - accuracy: 0.6791 - val_loss: 1.3185 - val_accuracy: 0.7012\n",
            "Epoch 4/50\n",
            "15/15 [==============================] - 0s 25ms/step - loss: 1.1298 - accuracy: 0.7226 - val_loss: 1.2380 - val_accuracy: 0.7162\n",
            "Epoch 5/50\n",
            "15/15 [==============================] - 0s 23ms/step - loss: 0.9714 - accuracy: 0.7562 - val_loss: 1.1762 - val_accuracy: 0.7440\n",
            "Epoch 6/50\n",
            "15/15 [==============================] - 0s 22ms/step - loss: 0.8110 - accuracy: 0.7929 - val_loss: 1.1641 - val_accuracy: 0.7563\n",
            "Epoch 7/50\n",
            "15/15 [==============================] - 0s 24ms/step - loss: 0.7038 - accuracy: 0.8182 - val_loss: 1.1650 - val_accuracy: 0.7674\n",
            "Epoch 8/50\n",
            "15/15 [==============================] - 0s 23ms/step - loss: 0.6132 - accuracy: 0.8394 - val_loss: 1.1470 - val_accuracy: 0.7674\n",
            "Epoch 9/50\n",
            "15/15 [==============================] - 0s 21ms/step - loss: 0.5378 - accuracy: 0.8583 - val_loss: 1.1704 - val_accuracy: 0.7741\n",
            "Epoch 10/50\n",
            "15/15 [==============================] - 0s 29ms/step - loss: 0.4797 - accuracy: 0.8714 - val_loss: 1.1779 - val_accuracy: 0.7830\n",
            "Epoch 11/50\n",
            "15/15 [==============================] - 0s 27ms/step - loss: 0.4341 - accuracy: 0.8887 - val_loss: 1.2060 - val_accuracy: 0.7802\n",
            "Epoch 12/50\n",
            "15/15 [==============================] - 0s 30ms/step - loss: 0.3811 - accuracy: 0.8992 - val_loss: 1.2137 - val_accuracy: 0.7924\n",
            "Epoch 13/50\n",
            "15/15 [==============================] - 0s 27ms/step - loss: 0.3360 - accuracy: 0.9101 - val_loss: 1.1810 - val_accuracy: 0.7980\n",
            "Epoch 14/50\n",
            "15/15 [==============================] - 0s 29ms/step - loss: 0.3074 - accuracy: 0.9179 - val_loss: 1.2280 - val_accuracy: 0.7963\n",
            "Epoch 15/50\n",
            "15/15 [==============================] - 0s 24ms/step - loss: 0.2921 - accuracy: 0.9221 - val_loss: 1.1841 - val_accuracy: 0.8030\n",
            "Epoch 16/50\n",
            "15/15 [==============================] - 0s 23ms/step - loss: 0.2636 - accuracy: 0.9324 - val_loss: 1.1963 - val_accuracy: 0.8114\n",
            "Epoch 17/50\n",
            "15/15 [==============================] - 0s 23ms/step - loss: 0.2500 - accuracy: 0.9344 - val_loss: 1.1771 - val_accuracy: 0.8047\n",
            "Epoch 18/50\n",
            "15/15 [==============================] - 0s 24ms/step - loss: 0.2347 - accuracy: 0.9402 - val_loss: 1.2121 - val_accuracy: 0.8091\n",
            "Epoch 19/50\n",
            "15/15 [==============================] - 0s 22ms/step - loss: 0.2375 - accuracy: 0.9402 - val_loss: 1.1802 - val_accuracy: 0.8091\n",
            "Epoch 20/50\n",
            "15/15 [==============================] - 0s 24ms/step - loss: 0.2099 - accuracy: 0.9464 - val_loss: 1.2125 - val_accuracy: 0.8125\n",
            "Epoch 21/50\n",
            "15/15 [==============================] - 0s 24ms/step - loss: 0.1908 - accuracy: 0.9510 - val_loss: 1.2485 - val_accuracy: 0.8080\n",
            "Epoch 22/50\n",
            "15/15 [==============================] - 0s 23ms/step - loss: 0.1817 - accuracy: 0.9511 - val_loss: 1.1910 - val_accuracy: 0.8114\n",
            "Epoch 23/50\n",
            "15/15 [==============================] - 0s 23ms/step - loss: 0.1663 - accuracy: 0.9570 - val_loss: 1.2286 - val_accuracy: 0.8152\n",
            "Epoch 24/50\n",
            "15/15 [==============================] - 0s 23ms/step - loss: 0.1705 - accuracy: 0.9548 - val_loss: 1.2319 - val_accuracy: 0.8030\n",
            "Epoch 25/50\n",
            "15/15 [==============================] - 0s 22ms/step - loss: 0.1605 - accuracy: 0.9592 - val_loss: 1.2193 - val_accuracy: 0.8136\n",
            "Epoch 26/50\n",
            "15/15 [==============================] - 0s 24ms/step - loss: 0.1393 - accuracy: 0.9608 - val_loss: 1.2694 - val_accuracy: 0.8130\n",
            "Epoch 27/50\n",
            "15/15 [==============================] - 0s 23ms/step - loss: 0.1390 - accuracy: 0.9635 - val_loss: 1.2632 - val_accuracy: 0.8147\n",
            "Epoch 28/50\n",
            "15/15 [==============================] - 0s 22ms/step - loss: 0.1317 - accuracy: 0.9626 - val_loss: 1.2830 - val_accuracy: 0.8152\n",
            "Epoch 29/50\n",
            "15/15 [==============================] - 0s 23ms/step - loss: 0.1323 - accuracy: 0.9626 - val_loss: 1.2607 - val_accuracy: 0.8114\n",
            "Epoch 30/50\n",
            "15/15 [==============================] - 0s 24ms/step - loss: 0.1303 - accuracy: 0.9652 - val_loss: 1.2345 - val_accuracy: 0.8186\n",
            "Epoch 31/50\n",
            "15/15 [==============================] - 0s 23ms/step - loss: 0.1149 - accuracy: 0.9667 - val_loss: 1.2890 - val_accuracy: 0.8130\n",
            "Epoch 32/50\n",
            "15/15 [==============================] - 0s 22ms/step - loss: 0.1180 - accuracy: 0.9653 - val_loss: 1.2972 - val_accuracy: 0.8158\n",
            "Epoch 33/50\n",
            "15/15 [==============================] - 0s 23ms/step - loss: 0.1107 - accuracy: 0.9655 - val_loss: 1.3064 - val_accuracy: 0.8158\n",
            "Epoch 34/50\n",
            "15/15 [==============================] - 0s 23ms/step - loss: 0.1202 - accuracy: 0.9659 - val_loss: 1.2679 - val_accuracy: 0.8164\n",
            "Epoch 35/50\n",
            "15/15 [==============================] - 0s 23ms/step - loss: 0.1159 - accuracy: 0.9660 - val_loss: 1.2814 - val_accuracy: 0.8141\n",
            "Epoch 36/50\n",
            "15/15 [==============================] - 0s 23ms/step - loss: 0.1022 - accuracy: 0.9688 - val_loss: 1.2958 - val_accuracy: 0.8152\n",
            "Epoch 37/50\n",
            "15/15 [==============================] - 0s 22ms/step - loss: 0.1174 - accuracy: 0.9663 - val_loss: 1.3351 - val_accuracy: 0.8152\n",
            "Epoch 38/50\n",
            "15/15 [==============================] - 0s 24ms/step - loss: 0.1154 - accuracy: 0.9653 - val_loss: 1.2809 - val_accuracy: 0.8164\n",
            "Epoch 39/50\n",
            "15/15 [==============================] - 0s 24ms/step - loss: 0.1067 - accuracy: 0.9684 - val_loss: 1.2838 - val_accuracy: 0.8091\n",
            "Epoch 40/50\n",
            "15/15 [==============================] - 0s 22ms/step - loss: 0.1124 - accuracy: 0.9651 - val_loss: 1.3055 - val_accuracy: 0.8175\n",
            "Epoch 41/50\n",
            "15/15 [==============================] - 0s 22ms/step - loss: 0.1064 - accuracy: 0.9676 - val_loss: 1.2966 - val_accuracy: 0.8130\n",
            "Epoch 42/50\n",
            "15/15 [==============================] - 0s 24ms/step - loss: 0.1133 - accuracy: 0.9667 - val_loss: 1.2935 - val_accuracy: 0.8152\n",
            "Epoch 43/50\n",
            "15/15 [==============================] - 0s 23ms/step - loss: 0.1042 - accuracy: 0.9681 - val_loss: 1.3268 - val_accuracy: 0.8141\n",
            "Epoch 44/50\n",
            "15/15 [==============================] - 0s 29ms/step - loss: 0.0953 - accuracy: 0.9701 - val_loss: 1.3148 - val_accuracy: 0.8091\n",
            "Epoch 45/50\n",
            "15/15 [==============================] - 0s 26ms/step - loss: 0.0925 - accuracy: 0.9684 - val_loss: 1.3654 - val_accuracy: 0.8130\n",
            "Epoch 46/50\n",
            "15/15 [==============================] - 0s 26ms/step - loss: 0.0852 - accuracy: 0.9716 - val_loss: 1.3588 - val_accuracy: 0.8147\n",
            "Epoch 47/50\n",
            "15/15 [==============================] - 0s 29ms/step - loss: 0.0880 - accuracy: 0.9681 - val_loss: 1.3564 - val_accuracy: 0.8147\n",
            "Epoch 48/50\n",
            "15/15 [==============================] - 0s 27ms/step - loss: 0.0910 - accuracy: 0.9692 - val_loss: 1.3040 - val_accuracy: 0.8119\n",
            "Epoch 49/50\n",
            "15/15 [==============================] - 0s 25ms/step - loss: 0.0895 - accuracy: 0.9690 - val_loss: 1.3807 - val_accuracy: 0.8097\n",
            "Epoch 50/50\n",
            "15/15 [==============================] - 0s 22ms/step - loss: 0.0892 - accuracy: 0.9701 - val_loss: 1.4216 - val_accuracy: 0.8108\n"
          ]
        },
        {
          "output_type": "execute_result",
          "data": {
            "text/plain": [
              "<keras.callbacks.History at 0x7f54682d6f40>"
            ]
          },
          "metadata": {},
          "execution_count": 140
        }
      ]
    },
    {
      "cell_type": "code",
      "source": [
        "model_2.evaluate(x_test, y_test)"
      ],
      "metadata": {
        "colab": {
          "base_uri": "https://localhost:8080/"
        },
        "id": "WzR33gXjwwhM",
        "outputId": "dbfa7e3f-4d81-4c0c-fad3-2cc5c9530838"
      },
      "execution_count": 141,
      "outputs": [
        {
          "output_type": "stream",
          "name": "stdout",
          "text": [
            "71/71 [==============================] - 0s 3ms/step - loss: 1.4502 - accuracy: 0.8179\n"
          ]
        },
        {
          "output_type": "execute_result",
          "data": {
            "text/plain": [
              "[1.4502217769622803, 0.8178985118865967]"
            ]
          },
          "metadata": {},
          "execution_count": 141
        }
      ]
    }
  ]
}